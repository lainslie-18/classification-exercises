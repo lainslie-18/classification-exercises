{
 "cells": [
  {
   "cell_type": "code",
   "execution_count": 159,
   "id": "0a699e42",
   "metadata": {},
   "outputs": [],
   "source": [
    "# ignore warnings\n",
    "import warnings\n",
    "warnings.filterwarnings(\"ignore\")\n",
    "\n",
    "import numpy as np\n",
    "import pandas as pd\n",
    "import acquire\n",
    "import prepare\n",
    "\n",
    "from pydataset import data\n",
    "\n",
    "from sklearn.model_selection import train_test_split\n",
    "from sklearn.tree import DecisionTreeClassifier\n",
    "from sklearn.ensemble import RandomForestClassifier\n",
    "from sklearn.tree import export_graphviz\n",
    "from sklearn.metrics import classification_report\n",
    "from sklearn.metrics import confusion_matrix\n",
    "\n",
    "import matplotlib.pyplot as plt\n",
    "import seaborn as sns\n",
    "\n",
    "import graphviz\n",
    "from graphviz import Graph"
   ]
  },
  {
   "cell_type": "markdown",
   "id": "5b510973",
   "metadata": {},
   "source": [
    "## Using titanic data"
   ]
  },
  {
   "cell_type": "code",
   "execution_count": 160,
   "id": "453bc3cd",
   "metadata": {},
   "outputs": [
    {
     "data": {
      "text/html": [
       "<div>\n",
       "<style scoped>\n",
       "    .dataframe tbody tr th:only-of-type {\n",
       "        vertical-align: middle;\n",
       "    }\n",
       "\n",
       "    .dataframe tbody tr th {\n",
       "        vertical-align: top;\n",
       "    }\n",
       "\n",
       "    .dataframe thead th {\n",
       "        text-align: right;\n",
       "    }\n",
       "</style>\n",
       "<table border=\"1\" class=\"dataframe\">\n",
       "  <thead>\n",
       "    <tr style=\"text-align: right;\">\n",
       "      <th></th>\n",
       "      <th>passenger_id</th>\n",
       "      <th>survived</th>\n",
       "      <th>pclass</th>\n",
       "      <th>sex</th>\n",
       "      <th>age</th>\n",
       "      <th>sibsp</th>\n",
       "      <th>parch</th>\n",
       "      <th>fare</th>\n",
       "      <th>embarked</th>\n",
       "      <th>class</th>\n",
       "      <th>deck</th>\n",
       "      <th>embark_town</th>\n",
       "      <th>alone</th>\n",
       "    </tr>\n",
       "  </thead>\n",
       "  <tbody>\n",
       "    <tr>\n",
       "      <th>0</th>\n",
       "      <td>0</td>\n",
       "      <td>0</td>\n",
       "      <td>3</td>\n",
       "      <td>male</td>\n",
       "      <td>22.0</td>\n",
       "      <td>1</td>\n",
       "      <td>0</td>\n",
       "      <td>7.2500</td>\n",
       "      <td>S</td>\n",
       "      <td>Third</td>\n",
       "      <td>NaN</td>\n",
       "      <td>Southampton</td>\n",
       "      <td>0</td>\n",
       "    </tr>\n",
       "    <tr>\n",
       "      <th>1</th>\n",
       "      <td>1</td>\n",
       "      <td>1</td>\n",
       "      <td>1</td>\n",
       "      <td>female</td>\n",
       "      <td>38.0</td>\n",
       "      <td>1</td>\n",
       "      <td>0</td>\n",
       "      <td>71.2833</td>\n",
       "      <td>C</td>\n",
       "      <td>First</td>\n",
       "      <td>C</td>\n",
       "      <td>Cherbourg</td>\n",
       "      <td>0</td>\n",
       "    </tr>\n",
       "    <tr>\n",
       "      <th>2</th>\n",
       "      <td>2</td>\n",
       "      <td>1</td>\n",
       "      <td>3</td>\n",
       "      <td>female</td>\n",
       "      <td>26.0</td>\n",
       "      <td>0</td>\n",
       "      <td>0</td>\n",
       "      <td>7.9250</td>\n",
       "      <td>S</td>\n",
       "      <td>Third</td>\n",
       "      <td>NaN</td>\n",
       "      <td>Southampton</td>\n",
       "      <td>1</td>\n",
       "    </tr>\n",
       "    <tr>\n",
       "      <th>3</th>\n",
       "      <td>3</td>\n",
       "      <td>1</td>\n",
       "      <td>1</td>\n",
       "      <td>female</td>\n",
       "      <td>35.0</td>\n",
       "      <td>1</td>\n",
       "      <td>0</td>\n",
       "      <td>53.1000</td>\n",
       "      <td>S</td>\n",
       "      <td>First</td>\n",
       "      <td>C</td>\n",
       "      <td>Southampton</td>\n",
       "      <td>0</td>\n",
       "    </tr>\n",
       "    <tr>\n",
       "      <th>4</th>\n",
       "      <td>4</td>\n",
       "      <td>0</td>\n",
       "      <td>3</td>\n",
       "      <td>male</td>\n",
       "      <td>35.0</td>\n",
       "      <td>0</td>\n",
       "      <td>0</td>\n",
       "      <td>8.0500</td>\n",
       "      <td>S</td>\n",
       "      <td>Third</td>\n",
       "      <td>NaN</td>\n",
       "      <td>Southampton</td>\n",
       "      <td>1</td>\n",
       "    </tr>\n",
       "  </tbody>\n",
       "</table>\n",
       "</div>"
      ],
      "text/plain": [
       "   passenger_id  survived  pclass     sex   age  sibsp  parch     fare  \\\n",
       "0             0         0       3    male  22.0      1      0   7.2500   \n",
       "1             1         1       1  female  38.0      1      0  71.2833   \n",
       "2             2         1       3  female  26.0      0      0   7.9250   \n",
       "3             3         1       1  female  35.0      1      0  53.1000   \n",
       "4             4         0       3    male  35.0      0      0   8.0500   \n",
       "\n",
       "  embarked  class deck  embark_town  alone  \n",
       "0        S  Third  NaN  Southampton      0  \n",
       "1        C  First    C    Cherbourg      0  \n",
       "2        S  Third  NaN  Southampton      1  \n",
       "3        S  First    C  Southampton      0  \n",
       "4        S  Third  NaN  Southampton      1  "
      ]
     },
     "execution_count": 160,
     "metadata": {},
     "output_type": "execute_result"
    }
   ],
   "source": [
    "# pulling in titanic data with function\n",
    "df = acquire.get_titanic_data()\n",
    "df.head()"
   ]
  },
  {
   "cell_type": "code",
   "execution_count": 161,
   "id": "744bcc9d",
   "metadata": {},
   "outputs": [
    {
     "data": {
      "text/plain": [
       "(498, 14)"
      ]
     },
     "execution_count": 161,
     "metadata": {},
     "output_type": "execute_result"
    }
   ],
   "source": [
    "# splitting titanic data into train, test, validate with function\n",
    "train, validate, test = prepare.prep_titanic_data(df)\n",
    "train.shape"
   ]
  },
  {
   "cell_type": "code",
   "execution_count": 107,
   "id": "58d7c3ff",
   "metadata": {},
   "outputs": [
    {
     "data": {
      "text/plain": [
       "(214, 14)"
      ]
     },
     "execution_count": 107,
     "metadata": {},
     "output_type": "execute_result"
    }
   ],
   "source": [
    "validate.shape"
   ]
  },
  {
   "cell_type": "code",
   "execution_count": 108,
   "id": "b3468eb7",
   "metadata": {},
   "outputs": [
    {
     "data": {
      "text/plain": [
       "(179, 14)"
      ]
     },
     "execution_count": 108,
     "metadata": {},
     "output_type": "execute_result"
    }
   ],
   "source": [
    "test.shape"
   ]
  },
  {
   "cell_type": "code",
   "execution_count": 109,
   "id": "e7d1cf5c",
   "metadata": {},
   "outputs": [
    {
     "data": {
      "text/html": [
       "<div>\n",
       "<style scoped>\n",
       "    .dataframe tbody tr th:only-of-type {\n",
       "        vertical-align: middle;\n",
       "    }\n",
       "\n",
       "    .dataframe tbody tr th {\n",
       "        vertical-align: top;\n",
       "    }\n",
       "\n",
       "    .dataframe thead th {\n",
       "        text-align: right;\n",
       "    }\n",
       "</style>\n",
       "<table border=\"1\" class=\"dataframe\">\n",
       "  <thead>\n",
       "    <tr style=\"text-align: right;\">\n",
       "      <th></th>\n",
       "      <th>survived</th>\n",
       "      <th>pclass</th>\n",
       "      <th>sex</th>\n",
       "      <th>age</th>\n",
       "      <th>sibsp</th>\n",
       "      <th>parch</th>\n",
       "      <th>fare</th>\n",
       "      <th>embark_town</th>\n",
       "      <th>alone</th>\n",
       "      <th>sex_female</th>\n",
       "      <th>sex_male</th>\n",
       "      <th>embark_town_Cherbourg</th>\n",
       "      <th>embark_town_Queenstown</th>\n",
       "      <th>embark_town_Southampton</th>\n",
       "    </tr>\n",
       "  </thead>\n",
       "  <tbody>\n",
       "    <tr>\n",
       "      <th>583</th>\n",
       "      <td>0</td>\n",
       "      <td>1</td>\n",
       "      <td>male</td>\n",
       "      <td>36.0</td>\n",
       "      <td>0</td>\n",
       "      <td>0</td>\n",
       "      <td>40.1250</td>\n",
       "      <td>Cherbourg</td>\n",
       "      <td>1</td>\n",
       "      <td>0</td>\n",
       "      <td>1</td>\n",
       "      <td>1</td>\n",
       "      <td>0</td>\n",
       "      <td>0</td>\n",
       "    </tr>\n",
       "    <tr>\n",
       "      <th>165</th>\n",
       "      <td>1</td>\n",
       "      <td>3</td>\n",
       "      <td>male</td>\n",
       "      <td>9.0</td>\n",
       "      <td>0</td>\n",
       "      <td>2</td>\n",
       "      <td>20.5250</td>\n",
       "      <td>Southampton</td>\n",
       "      <td>0</td>\n",
       "      <td>0</td>\n",
       "      <td>1</td>\n",
       "      <td>0</td>\n",
       "      <td>0</td>\n",
       "      <td>1</td>\n",
       "    </tr>\n",
       "    <tr>\n",
       "      <th>50</th>\n",
       "      <td>0</td>\n",
       "      <td>3</td>\n",
       "      <td>male</td>\n",
       "      <td>7.0</td>\n",
       "      <td>4</td>\n",
       "      <td>1</td>\n",
       "      <td>39.6875</td>\n",
       "      <td>Southampton</td>\n",
       "      <td>0</td>\n",
       "      <td>0</td>\n",
       "      <td>1</td>\n",
       "      <td>0</td>\n",
       "      <td>0</td>\n",
       "      <td>1</td>\n",
       "    </tr>\n",
       "    <tr>\n",
       "      <th>259</th>\n",
       "      <td>1</td>\n",
       "      <td>2</td>\n",
       "      <td>female</td>\n",
       "      <td>50.0</td>\n",
       "      <td>0</td>\n",
       "      <td>1</td>\n",
       "      <td>26.0000</td>\n",
       "      <td>Southampton</td>\n",
       "      <td>0</td>\n",
       "      <td>1</td>\n",
       "      <td>0</td>\n",
       "      <td>0</td>\n",
       "      <td>0</td>\n",
       "      <td>1</td>\n",
       "    </tr>\n",
       "    <tr>\n",
       "      <th>306</th>\n",
       "      <td>1</td>\n",
       "      <td>1</td>\n",
       "      <td>female</td>\n",
       "      <td>NaN</td>\n",
       "      <td>0</td>\n",
       "      <td>0</td>\n",
       "      <td>110.8833</td>\n",
       "      <td>Cherbourg</td>\n",
       "      <td>1</td>\n",
       "      <td>1</td>\n",
       "      <td>0</td>\n",
       "      <td>1</td>\n",
       "      <td>0</td>\n",
       "      <td>0</td>\n",
       "    </tr>\n",
       "  </tbody>\n",
       "</table>\n",
       "</div>"
      ],
      "text/plain": [
       "     survived  pclass     sex   age  sibsp  parch      fare  embark_town  \\\n",
       "583         0       1    male  36.0      0      0   40.1250    Cherbourg   \n",
       "165         1       3    male   9.0      0      2   20.5250  Southampton   \n",
       "50          0       3    male   7.0      4      1   39.6875  Southampton   \n",
       "259         1       2  female  50.0      0      1   26.0000  Southampton   \n",
       "306         1       1  female   NaN      0      0  110.8833    Cherbourg   \n",
       "\n",
       "     alone  sex_female  sex_male  embark_town_Cherbourg  \\\n",
       "583      1           0         1                      1   \n",
       "165      0           0         1                      0   \n",
       "50       0           0         1                      0   \n",
       "259      0           1         0                      0   \n",
       "306      1           1         0                      1   \n",
       "\n",
       "     embark_town_Queenstown  embark_town_Southampton  \n",
       "583                       0                        0  \n",
       "165                       0                        1  \n",
       "50                        0                        1  \n",
       "259                       0                        1  \n",
       "306                       0                        0  "
      ]
     },
     "execution_count": 109,
     "metadata": {},
     "output_type": "execute_result"
    }
   ],
   "source": [
    "train.head()"
   ]
  },
  {
   "cell_type": "code",
   "execution_count": 68,
   "id": "0fa1c146",
   "metadata": {},
   "outputs": [
    {
     "name": "stdout",
     "output_type": "stream",
     "text": [
      "<class 'pandas.core.frame.DataFrame'>\n",
      "Int64Index: 498 entries, 583 to 744\n",
      "Data columns (total 14 columns):\n",
      " #   Column                   Non-Null Count  Dtype  \n",
      "---  ------                   --------------  -----  \n",
      " 0   survived                 498 non-null    int64  \n",
      " 1   pclass                   498 non-null    int64  \n",
      " 2   sex                      498 non-null    object \n",
      " 3   age                      401 non-null    float64\n",
      " 4   sibsp                    498 non-null    int64  \n",
      " 5   parch                    498 non-null    int64  \n",
      " 6   fare                     498 non-null    float64\n",
      " 7   embark_town              498 non-null    object \n",
      " 8   alone                    498 non-null    int64  \n",
      " 9   sex_female               498 non-null    uint8  \n",
      " 10  sex_male                 498 non-null    uint8  \n",
      " 11  embark_town_Cherbourg    498 non-null    uint8  \n",
      " 12  embark_town_Queenstown   498 non-null    uint8  \n",
      " 13  embark_town_Southampton  498 non-null    uint8  \n",
      "dtypes: float64(2), int64(5), object(2), uint8(5)\n",
      "memory usage: 41.3+ KB\n"
     ]
    }
   ],
   "source": [
    "train.info()"
   ]
  },
  {
   "cell_type": "markdown",
   "id": "1daf4c5e",
   "metadata": {},
   "source": [
    "## Exercise 1\n",
    "\n",
    "What is your baseline prediction? What is your baseline accuracy? remember: your baseline prediction for a classification problem is predicting the most prevelant class in the training dataset (the mode). When you make those predictions, what is your accuracy? This is your baseline accuracy."
   ]
  },
  {
   "cell_type": "code",
   "execution_count": 110,
   "id": "b8eb36a3",
   "metadata": {},
   "outputs": [
    {
     "data": {
      "text/plain": [
       "0    307\n",
       "1    191\n",
       "Name: survived, dtype: int64"
      ]
     },
     "execution_count": 110,
     "metadata": {},
     "output_type": "execute_result"
    }
   ],
   "source": [
    "train.survived.value_counts()"
   ]
  },
  {
   "cell_type": "markdown",
   "id": "d32fdc3a",
   "metadata": {},
   "source": [
    "**Baseline is 0 (did not survive) since that is the most prevalent value**"
   ]
  },
  {
   "cell_type": "code",
   "execution_count": 162,
   "id": "8ae4a7f0",
   "metadata": {},
   "outputs": [
    {
     "data": {
      "text/html": [
       "<div>\n",
       "<style scoped>\n",
       "    .dataframe tbody tr th:only-of-type {\n",
       "        vertical-align: middle;\n",
       "    }\n",
       "\n",
       "    .dataframe tbody tr th {\n",
       "        vertical-align: top;\n",
       "    }\n",
       "\n",
       "    .dataframe thead th {\n",
       "        text-align: right;\n",
       "    }\n",
       "</style>\n",
       "<table border=\"1\" class=\"dataframe\">\n",
       "  <thead>\n",
       "    <tr style=\"text-align: right;\">\n",
       "      <th></th>\n",
       "      <th>survived</th>\n",
       "      <th>pclass</th>\n",
       "      <th>sex</th>\n",
       "      <th>age</th>\n",
       "      <th>sibsp</th>\n",
       "      <th>parch</th>\n",
       "      <th>fare</th>\n",
       "      <th>embark_town</th>\n",
       "      <th>alone</th>\n",
       "      <th>sex_female</th>\n",
       "      <th>sex_male</th>\n",
       "      <th>embark_town_Cherbourg</th>\n",
       "      <th>embark_town_Queenstown</th>\n",
       "      <th>embark_town_Southampton</th>\n",
       "      <th>baseline</th>\n",
       "    </tr>\n",
       "  </thead>\n",
       "  <tbody>\n",
       "    <tr>\n",
       "      <th>583</th>\n",
       "      <td>0</td>\n",
       "      <td>1</td>\n",
       "      <td>male</td>\n",
       "      <td>36.0</td>\n",
       "      <td>0</td>\n",
       "      <td>0</td>\n",
       "      <td>40.1250</td>\n",
       "      <td>Cherbourg</td>\n",
       "      <td>1</td>\n",
       "      <td>0</td>\n",
       "      <td>1</td>\n",
       "      <td>1</td>\n",
       "      <td>0</td>\n",
       "      <td>0</td>\n",
       "      <td>0</td>\n",
       "    </tr>\n",
       "    <tr>\n",
       "      <th>165</th>\n",
       "      <td>1</td>\n",
       "      <td>3</td>\n",
       "      <td>male</td>\n",
       "      <td>9.0</td>\n",
       "      <td>0</td>\n",
       "      <td>2</td>\n",
       "      <td>20.5250</td>\n",
       "      <td>Southampton</td>\n",
       "      <td>0</td>\n",
       "      <td>0</td>\n",
       "      <td>1</td>\n",
       "      <td>0</td>\n",
       "      <td>0</td>\n",
       "      <td>1</td>\n",
       "      <td>0</td>\n",
       "    </tr>\n",
       "    <tr>\n",
       "      <th>50</th>\n",
       "      <td>0</td>\n",
       "      <td>3</td>\n",
       "      <td>male</td>\n",
       "      <td>7.0</td>\n",
       "      <td>4</td>\n",
       "      <td>1</td>\n",
       "      <td>39.6875</td>\n",
       "      <td>Southampton</td>\n",
       "      <td>0</td>\n",
       "      <td>0</td>\n",
       "      <td>1</td>\n",
       "      <td>0</td>\n",
       "      <td>0</td>\n",
       "      <td>1</td>\n",
       "      <td>0</td>\n",
       "    </tr>\n",
       "    <tr>\n",
       "      <th>259</th>\n",
       "      <td>1</td>\n",
       "      <td>2</td>\n",
       "      <td>female</td>\n",
       "      <td>50.0</td>\n",
       "      <td>0</td>\n",
       "      <td>1</td>\n",
       "      <td>26.0000</td>\n",
       "      <td>Southampton</td>\n",
       "      <td>0</td>\n",
       "      <td>1</td>\n",
       "      <td>0</td>\n",
       "      <td>0</td>\n",
       "      <td>0</td>\n",
       "      <td>1</td>\n",
       "      <td>0</td>\n",
       "    </tr>\n",
       "    <tr>\n",
       "      <th>306</th>\n",
       "      <td>1</td>\n",
       "      <td>1</td>\n",
       "      <td>female</td>\n",
       "      <td>NaN</td>\n",
       "      <td>0</td>\n",
       "      <td>0</td>\n",
       "      <td>110.8833</td>\n",
       "      <td>Cherbourg</td>\n",
       "      <td>1</td>\n",
       "      <td>1</td>\n",
       "      <td>0</td>\n",
       "      <td>1</td>\n",
       "      <td>0</td>\n",
       "      <td>0</td>\n",
       "      <td>0</td>\n",
       "    </tr>\n",
       "  </tbody>\n",
       "</table>\n",
       "</div>"
      ],
      "text/plain": [
       "     survived  pclass     sex   age  sibsp  parch      fare  embark_town  \\\n",
       "583         0       1    male  36.0      0      0   40.1250    Cherbourg   \n",
       "165         1       3    male   9.0      0      2   20.5250  Southampton   \n",
       "50          0       3    male   7.0      4      1   39.6875  Southampton   \n",
       "259         1       2  female  50.0      0      1   26.0000  Southampton   \n",
       "306         1       1  female   NaN      0      0  110.8833    Cherbourg   \n",
       "\n",
       "     alone  sex_female  sex_male  embark_town_Cherbourg  \\\n",
       "583      1           0         1                      1   \n",
       "165      0           0         1                      0   \n",
       "50       0           0         1                      0   \n",
       "259      0           1         0                      0   \n",
       "306      1           1         0                      1   \n",
       "\n",
       "     embark_town_Queenstown  embark_town_Southampton  baseline  \n",
       "583                       0                        0         0  \n",
       "165                       0                        1         0  \n",
       "50                        0                        1         0  \n",
       "259                       0                        1         0  \n",
       "306                       0                        0         0  "
      ]
     },
     "execution_count": 162,
     "metadata": {},
     "output_type": "execute_result"
    }
   ],
   "source": [
    "# creating a baseline column to compare to actual\n",
    "train['baseline'] = 0\n",
    "train.head()"
   ]
  },
  {
   "cell_type": "code",
   "execution_count": 163,
   "id": "6f1cbb8a",
   "metadata": {},
   "outputs": [
    {
     "data": {
      "text/plain": [
       "0.6164658634538153"
      ]
     },
     "execution_count": 163,
     "metadata": {},
     "output_type": "execute_result"
    }
   ],
   "source": [
    "# calculating baseline accuracy\n",
    "(train.baseline == train.survived).mean()"
   ]
  },
  {
   "cell_type": "markdown",
   "id": "ee7a029b",
   "metadata": {},
   "source": [
    "**Baseline accuracy is 62% so, to add value, a model needs to have greater accuracy**"
   ]
  },
  {
   "cell_type": "markdown",
   "id": "e78cafad",
   "metadata": {},
   "source": [
    "## Exercise 2 \n",
    "\n",
    "Fit the decision tree classifier to your training sample and transform (i.e. make predictions on the training sample)"
   ]
  },
  {
   "cell_type": "code",
   "execution_count": 164,
   "id": "42bf7ecd",
   "metadata": {},
   "outputs": [],
   "source": [
    "# creating x and y version of train where x includes everything but the target variable and y contains only the target variable\n",
    "x_train = train.drop(columns=['survived', 'baseline', 'sex', 'embark_town', 'sex_female', 'age'])\n",
    "y_train = train.survived\n",
    "\n",
    "x_validate = validate.drop(columns=['survived', 'sex', 'embark_town', 'sex_female', 'age'])\n",
    "y_validate = validate.survived\n",
    "\n",
    "x_test = test.drop(columns=['survived', 'sex', 'embark_town', 'sex_female', 'age'])\n",
    "y_test = test.survived"
   ]
  },
  {
   "cell_type": "code",
   "execution_count": 145,
   "id": "dbd61161",
   "metadata": {},
   "outputs": [],
   "source": [
    "# creating the Decision Tree object with desired hyper-parameters\n",
    "clf = DecisionTreeClassifier(max_depth=3, random_state=123)"
   ]
  },
  {
   "cell_type": "code",
   "execution_count": 146,
   "id": "1a1acd42",
   "metadata": {},
   "outputs": [],
   "source": [
    "# fitting the algorithm to the training data\n",
    "clf = clf.fit(x_train, y_train)"
   ]
  },
  {
   "cell_type": "code",
   "execution_count": 139,
   "id": "8c46736d",
   "metadata": {},
   "outputs": [
    {
     "data": {
      "text/plain": [
       "'titanic_decision_tree.pdf'"
      ]
     },
     "execution_count": 139,
     "metadata": {},
     "output_type": "execute_result"
    }
   ],
   "source": [
    "# creating visualization of tree\n",
    "dot_data = export_graphviz(clf, feature_names= x_train.columns, rounded=True, filled=True, out_file=None)\n",
    "graph = graphviz.Source(dot_data) \n",
    "\n",
    "graph.render('titanic_decision_tree', view=True)"
   ]
  },
  {
   "cell_type": "code",
   "execution_count": 147,
   "id": "27b73bd4",
   "metadata": {},
   "outputs": [
    {
     "data": {
      "text/plain": [
       "array([0, 0, 0, 1, 1])"
      ]
     },
     "execution_count": 147,
     "metadata": {},
     "output_type": "execute_result"
    }
   ],
   "source": [
    "# making prediction on observations\n",
    "y_pred = clf.predict(x_train)\n",
    "y_pred[0:5]"
   ]
  },
  {
   "cell_type": "code",
   "execution_count": 148,
   "id": "aa159dbb",
   "metadata": {},
   "outputs": [
    {
     "data": {
      "text/plain": [
       "array([[0.69827586, 0.30172414],\n",
       "       [0.69827586, 0.30172414],\n",
       "       [0.69827586, 0.30172414],\n",
       "       [0.07142857, 0.92857143],\n",
       "       [0.01923077, 0.98076923]])"
      ]
     },
     "execution_count": 148,
     "metadata": {},
     "output_type": "execute_result"
    }
   ],
   "source": [
    "# estimating probability of each species\n",
    "y_pred_proba = clf.predict_proba(x_train)\n",
    "y_pred_proba[0:5]"
   ]
  },
  {
   "cell_type": "markdown",
   "id": "2252f71f",
   "metadata": {},
   "source": [
    "## Exercise 3. \n",
    "\n",
    "Evaluate your in-sample results using the model score, confusion matrix, and classification report."
   ]
  },
  {
   "cell_type": "code",
   "execution_count": 149,
   "id": "721f3ea1",
   "metadata": {},
   "outputs": [
    {
     "name": "stdout",
     "output_type": "stream",
     "text": [
      "Accuracy of Decision Tree classifier on training set: 0.82\n"
     ]
    }
   ],
   "source": [
    "print('Accuracy of Decision Tree classifier on training set: {:.2f}'\n",
    "      .format(clf.score(x_train, y_train)))"
   ]
  },
  {
   "cell_type": "code",
   "execution_count": 120,
   "id": "a1a6355b",
   "metadata": {},
   "outputs": [
    {
     "data": {
      "text/plain": [
       "array([[276,  31],\n",
       "       [ 57, 134]])"
      ]
     },
     "execution_count": 120,
     "metadata": {},
     "output_type": "execute_result"
    }
   ],
   "source": [
    "# creating confusion matrix\n",
    "confusion_matrix(y_train, y_pred)"
   ]
  },
  {
   "cell_type": "code",
   "execution_count": 121,
   "id": "ad8dc399",
   "metadata": {},
   "outputs": [
    {
     "data": {
      "text/html": [
       "<div>\n",
       "<style scoped>\n",
       "    .dataframe tbody tr th:only-of-type {\n",
       "        vertical-align: middle;\n",
       "    }\n",
       "\n",
       "    .dataframe tbody tr th {\n",
       "        vertical-align: top;\n",
       "    }\n",
       "\n",
       "    .dataframe thead th {\n",
       "        text-align: right;\n",
       "    }\n",
       "</style>\n",
       "<table border=\"1\" class=\"dataframe\">\n",
       "  <thead>\n",
       "    <tr style=\"text-align: right;\">\n",
       "      <th></th>\n",
       "      <th>0</th>\n",
       "      <th>1</th>\n",
       "    </tr>\n",
       "  </thead>\n",
       "  <tbody>\n",
       "    <tr>\n",
       "      <th>0</th>\n",
       "      <td>276</td>\n",
       "      <td>31</td>\n",
       "    </tr>\n",
       "    <tr>\n",
       "      <th>1</th>\n",
       "      <td>57</td>\n",
       "      <td>134</td>\n",
       "    </tr>\n",
       "  </tbody>\n",
       "</table>\n",
       "</div>"
      ],
      "text/plain": [
       "     0    1\n",
       "0  276   31\n",
       "1   57  134"
      ]
     },
     "execution_count": 121,
     "metadata": {},
     "output_type": "execute_result"
    }
   ],
   "source": [
    "# adding clarity\n",
    "labels = sorted(y_train.unique())\n",
    "\n",
    "pd.DataFrame(confusion_matrix(y_train, y_pred), index=labels, columns=labels)"
   ]
  },
  {
   "cell_type": "code",
   "execution_count": 122,
   "id": "f1ee2dc3",
   "metadata": {},
   "outputs": [
    {
     "name": "stdout",
     "output_type": "stream",
     "text": [
      "              precision    recall  f1-score   support\n",
      "\n",
      "           0       0.83      0.90      0.86       307\n",
      "           1       0.81      0.70      0.75       191\n",
      "\n",
      "    accuracy                           0.82       498\n",
      "   macro avg       0.82      0.80      0.81       498\n",
      "weighted avg       0.82      0.82      0.82       498\n",
      "\n"
     ]
    }
   ],
   "source": [
    "# creating classification report\n",
    "print(classification_report(y_train, y_pred))"
   ]
  },
  {
   "cell_type": "markdown",
   "id": "7e830349",
   "metadata": {},
   "source": [
    "## Exercise 4 \n",
    "\n",
    "Compute: Accuracy, true positive rate, false positive rate, true negative rate, false negative rate, precision, recall, f1-score, and support."
   ]
  },
  {
   "cell_type": "code",
   "execution_count": 123,
   "id": "70aa0078",
   "metadata": {},
   "outputs": [
    {
     "data": {
      "text/html": [
       "<div>\n",
       "<style scoped>\n",
       "    .dataframe tbody tr th:only-of-type {\n",
       "        vertical-align: middle;\n",
       "    }\n",
       "\n",
       "    .dataframe tbody tr th {\n",
       "        vertical-align: top;\n",
       "    }\n",
       "\n",
       "    .dataframe thead th {\n",
       "        text-align: right;\n",
       "    }\n",
       "</style>\n",
       "<table border=\"1\" class=\"dataframe\">\n",
       "  <thead>\n",
       "    <tr style=\"text-align: right;\">\n",
       "      <th></th>\n",
       "      <th>0</th>\n",
       "      <th>1</th>\n",
       "    </tr>\n",
       "  </thead>\n",
       "  <tbody>\n",
       "    <tr>\n",
       "      <th>0</th>\n",
       "      <td>0.899023</td>\n",
       "      <td>0.100977</td>\n",
       "    </tr>\n",
       "    <tr>\n",
       "      <th>1</th>\n",
       "      <td>0.298429</td>\n",
       "      <td>0.701571</td>\n",
       "    </tr>\n",
       "  </tbody>\n",
       "</table>\n",
       "</div>"
      ],
      "text/plain": [
       "          0         1\n",
       "0  0.899023  0.100977\n",
       "1  0.298429  0.701571"
      ]
     },
     "execution_count": 123,
     "metadata": {},
     "output_type": "execute_result"
    }
   ],
   "source": [
    "# confusion matrix with tp (upper left), fp (lower left), tn (lower right), & fn (upper right)\n",
    "pd.DataFrame(confusion_matrix(y_train, y_pred, normalize='true'), index=labels, columns=labels)"
   ]
  },
  {
   "cell_type": "code",
   "execution_count": 124,
   "id": "41c19c85",
   "metadata": {},
   "outputs": [
    {
     "name": "stdout",
     "output_type": "stream",
     "text": [
      "              precision    recall  f1-score   support\n",
      "\n",
      "           0       0.83      0.90      0.86       307\n",
      "           1       0.81      0.70      0.75       191\n",
      "\n",
      "    accuracy                           0.82       498\n",
      "   macro avg       0.82      0.80      0.81       498\n",
      "weighted avg       0.82      0.82      0.82       498\n",
      "\n"
     ]
    }
   ],
   "source": [
    "# classification report with accuracy, precision, recall, f1-score, & support\n",
    "print(classification_report(y_train, y_pred))"
   ]
  },
  {
   "cell_type": "markdown",
   "id": "8a91ed7f",
   "metadata": {},
   "source": [
    "## Exercise 5, Step II\n",
    "\n",
    "Run through steps 2-4 using a different max_depth value."
   ]
  },
  {
   "cell_type": "code",
   "execution_count": 152,
   "id": "e4949bba",
   "metadata": {},
   "outputs": [],
   "source": [
    "# creating the Decision Tree object with desired hyper-parameters\n",
    "clf = DecisionTreeClassifier(max_depth=5, random_state=123)"
   ]
  },
  {
   "cell_type": "code",
   "execution_count": 153,
   "id": "c1f574f2",
   "metadata": {},
   "outputs": [],
   "source": [
    "# fitting the algorithm to the training data\n",
    "clf = clf.fit(x_train, y_train)"
   ]
  },
  {
   "cell_type": "code",
   "execution_count": 127,
   "id": "3a0f354f",
   "metadata": {},
   "outputs": [
    {
     "data": {
      "text/plain": [
       "'titanic_decision_tree.pdf'"
      ]
     },
     "execution_count": 127,
     "metadata": {},
     "output_type": "execute_result"
    }
   ],
   "source": [
    "# creating visualization of tree\n",
    "dot_data = export_graphviz(clf, feature_names= x_train.columns, rounded=True, filled=True, out_file=None)\n",
    "graph = graphviz.Source(dot_data) \n",
    "\n",
    "graph.render('titanic_decision_tree', view=True)"
   ]
  },
  {
   "cell_type": "code",
   "execution_count": 154,
   "id": "107220a4",
   "metadata": {},
   "outputs": [
    {
     "data": {
      "text/plain": [
       "array([0, 0, 0, 1, 1])"
      ]
     },
     "execution_count": 154,
     "metadata": {},
     "output_type": "execute_result"
    }
   ],
   "source": [
    "# making prediction on observations\n",
    "y_pred = clf.predict(x_train)\n",
    "y_pred[0:5]"
   ]
  },
  {
   "cell_type": "code",
   "execution_count": 155,
   "id": "75ed76c3",
   "metadata": {},
   "outputs": [
    {
     "data": {
      "text/plain": [
       "array([[0.62025316, 0.37974684],\n",
       "       [0.82608696, 0.17391304],\n",
       "       [1.        , 0.        ],\n",
       "       [0.        , 1.        ],\n",
       "       [0.        , 1.        ]])"
      ]
     },
     "execution_count": 155,
     "metadata": {},
     "output_type": "execute_result"
    }
   ],
   "source": [
    "# estimating probability of each species\n",
    "y_pred_proba = clf.predict_proba(x_train)\n",
    "y_pred_proba[0:5]"
   ]
  },
  {
   "cell_type": "markdown",
   "id": "a51266ee",
   "metadata": {},
   "source": [
    "## Exercise 5, Step III\n",
    "\n",
    "Evaluate your in-sample results using the model score, confusion matrix, and classification report."
   ]
  },
  {
   "cell_type": "code",
   "execution_count": 156,
   "id": "eed4c28e",
   "metadata": {},
   "outputs": [
    {
     "name": "stdout",
     "output_type": "stream",
     "text": [
      "Accuracy of Decision Tree classifier on training set: 0.84\n"
     ]
    }
   ],
   "source": [
    "print('Accuracy of Decision Tree classifier on training set: {:.2f}'\n",
    "      .format(clf.score(x_train, y_train)))"
   ]
  },
  {
   "cell_type": "code",
   "execution_count": 131,
   "id": "c5490d48",
   "metadata": {},
   "outputs": [
    {
     "data": {
      "text/plain": [
       "array([[303,   4],\n",
       "       [ 77, 114]])"
      ]
     },
     "execution_count": 131,
     "metadata": {},
     "output_type": "execute_result"
    }
   ],
   "source": [
    "# creating confusion matrix\n",
    "confusion_matrix(y_train, y_pred)"
   ]
  },
  {
   "cell_type": "code",
   "execution_count": 132,
   "id": "6d5888aa",
   "metadata": {},
   "outputs": [
    {
     "data": {
      "text/html": [
       "<div>\n",
       "<style scoped>\n",
       "    .dataframe tbody tr th:only-of-type {\n",
       "        vertical-align: middle;\n",
       "    }\n",
       "\n",
       "    .dataframe tbody tr th {\n",
       "        vertical-align: top;\n",
       "    }\n",
       "\n",
       "    .dataframe thead th {\n",
       "        text-align: right;\n",
       "    }\n",
       "</style>\n",
       "<table border=\"1\" class=\"dataframe\">\n",
       "  <thead>\n",
       "    <tr style=\"text-align: right;\">\n",
       "      <th></th>\n",
       "      <th>0</th>\n",
       "      <th>1</th>\n",
       "    </tr>\n",
       "  </thead>\n",
       "  <tbody>\n",
       "    <tr>\n",
       "      <th>0</th>\n",
       "      <td>303</td>\n",
       "      <td>4</td>\n",
       "    </tr>\n",
       "    <tr>\n",
       "      <th>1</th>\n",
       "      <td>77</td>\n",
       "      <td>114</td>\n",
       "    </tr>\n",
       "  </tbody>\n",
       "</table>\n",
       "</div>"
      ],
      "text/plain": [
       "     0    1\n",
       "0  303    4\n",
       "1   77  114"
      ]
     },
     "execution_count": 132,
     "metadata": {},
     "output_type": "execute_result"
    }
   ],
   "source": [
    "# adding clarity\n",
    "labels = sorted(y_train.unique())\n",
    "\n",
    "pd.DataFrame(confusion_matrix(y_train, y_pred), index=labels, columns=labels)"
   ]
  },
  {
   "cell_type": "code",
   "execution_count": 133,
   "id": "85d5927d",
   "metadata": {},
   "outputs": [
    {
     "name": "stdout",
     "output_type": "stream",
     "text": [
      "              precision    recall  f1-score   support\n",
      "\n",
      "           0       0.80      0.99      0.88       307\n",
      "           1       0.97      0.60      0.74       191\n",
      "\n",
      "    accuracy                           0.84       498\n",
      "   macro avg       0.88      0.79      0.81       498\n",
      "weighted avg       0.86      0.84      0.83       498\n",
      "\n"
     ]
    }
   ],
   "source": [
    "# creating classification report\n",
    "print(classification_report(y_train, y_pred))"
   ]
  },
  {
   "cell_type": "markdown",
   "id": "03d537a6",
   "metadata": {},
   "source": [
    "## Exercise 5, Step IV \n",
    "\n",
    "Compute: Accuracy, true positive rate, false positive rate, true negative rate, false negative rate, precision, recall, f1-score, and support."
   ]
  },
  {
   "cell_type": "code",
   "execution_count": 134,
   "id": "136eb178",
   "metadata": {},
   "outputs": [
    {
     "data": {
      "text/html": [
       "<div>\n",
       "<style scoped>\n",
       "    .dataframe tbody tr th:only-of-type {\n",
       "        vertical-align: middle;\n",
       "    }\n",
       "\n",
       "    .dataframe tbody tr th {\n",
       "        vertical-align: top;\n",
       "    }\n",
       "\n",
       "    .dataframe thead th {\n",
       "        text-align: right;\n",
       "    }\n",
       "</style>\n",
       "<table border=\"1\" class=\"dataframe\">\n",
       "  <thead>\n",
       "    <tr style=\"text-align: right;\">\n",
       "      <th></th>\n",
       "      <th>0</th>\n",
       "      <th>1</th>\n",
       "    </tr>\n",
       "  </thead>\n",
       "  <tbody>\n",
       "    <tr>\n",
       "      <th>0</th>\n",
       "      <td>0.986971</td>\n",
       "      <td>0.013029</td>\n",
       "    </tr>\n",
       "    <tr>\n",
       "      <th>1</th>\n",
       "      <td>0.403141</td>\n",
       "      <td>0.596859</td>\n",
       "    </tr>\n",
       "  </tbody>\n",
       "</table>\n",
       "</div>"
      ],
      "text/plain": [
       "          0         1\n",
       "0  0.986971  0.013029\n",
       "1  0.403141  0.596859"
      ]
     },
     "execution_count": 134,
     "metadata": {},
     "output_type": "execute_result"
    }
   ],
   "source": [
    "# confusion matrix with tp (upper left), fp (lower left), tn (lower right), & fn (upper right)\n",
    "pd.DataFrame(confusion_matrix(y_train, y_pred, normalize='true'), index=labels, columns=labels)"
   ]
  },
  {
   "cell_type": "code",
   "execution_count": 135,
   "id": "da38ef7a",
   "metadata": {},
   "outputs": [
    {
     "name": "stdout",
     "output_type": "stream",
     "text": [
      "              precision    recall  f1-score   support\n",
      "\n",
      "           0       0.80      0.99      0.88       307\n",
      "           1       0.97      0.60      0.74       191\n",
      "\n",
      "    accuracy                           0.84       498\n",
      "   macro avg       0.88      0.79      0.81       498\n",
      "weighted avg       0.86      0.84      0.83       498\n",
      "\n"
     ]
    }
   ],
   "source": [
    "# classification report with accuracy, precision, recall, f1-score, & support\n",
    "print(classification_report(y_train, y_pred))"
   ]
  },
  {
   "cell_type": "markdown",
   "id": "31eb7ee2",
   "metadata": {},
   "source": [
    "## Exercise 6\n",
    "\n",
    "Which model performs better on your in-sample data?"
   ]
  },
  {
   "cell_type": "markdown",
   "id": "61b3f398",
   "metadata": {},
   "source": [
    "**Model with max_depth_value of 5 performed slightly better on in-sample data (0.84 accuracy) than that with max_depth_value of 3 (0.82 accuracy)**"
   ]
  },
  {
   "cell_type": "markdown",
   "id": "8e2d776c",
   "metadata": {},
   "source": [
    "## Exercise 7, \n",
    "\n",
    "Which model performs best on your out-of-sample data, the validate set?"
   ]
  },
  {
   "cell_type": "code",
   "execution_count": 157,
   "id": "a584c0f8",
   "metadata": {},
   "outputs": [
    {
     "name": "stdout",
     "output_type": "stream",
     "text": [
      "Accuracy of Decision Tree classifier on validate set: 0.75\n"
     ]
    }
   ],
   "source": [
    "# running this after creating and running Decision Tree classifier with desired hyper-parameters and fitting to the data\n",
    "# first with max_depth set to 3, then with max_depth set to 5\n",
    "print('Accuracy of Decision Tree classifier on validate set: {:.2f}'\n",
    "     .format(clf.score(x_validate, y_validate)))"
   ]
  },
  {
   "cell_type": "markdown",
   "id": "db83d226",
   "metadata": {},
   "source": [
    "**Model with max_depth set to 3 performs better on the validate set with accuracy of 0.79**\n",
    "\n",
    "**Model with max_depth set to 5 has accuracy of 0.75**"
   ]
  },
  {
   "cell_type": "markdown",
   "id": "67600796",
   "metadata": {},
   "source": [
    "# Random Forest Exercises"
   ]
  },
  {
   "cell_type": "markdown",
   "id": "492ca46d",
   "metadata": {},
   "source": [
    "### Exercise 1\n",
    "\n",
    "Fit the Random Forest classifier to your training sample and transform (i.e. make predictions on the training sample) setting the random_state accordingly and setting min_samples_leaf = 1 and max_depth = 10."
   ]
  },
  {
   "cell_type": "code",
   "execution_count": 167,
   "id": "9b36edf5",
   "metadata": {},
   "outputs": [
    {
     "data": {
      "text/plain": [
       "RandomForestClassifier(max_depth=10, random_state=369)"
      ]
     },
     "execution_count": 167,
     "metadata": {},
     "output_type": "execute_result"
    }
   ],
   "source": [
    "# creating random forest object with desired hyper-parameters\n",
    "rf = RandomForestClassifier(max_depth=10, \n",
    "                            random_state=369, min_samples_leaf=1)\n",
    "rf"
   ]
  },
  {
   "cell_type": "code",
   "execution_count": 169,
   "id": "79b9791d",
   "metadata": {},
   "outputs": [
    {
     "data": {
      "text/plain": [
       "RandomForestClassifier(max_depth=10, random_state=369)"
      ]
     },
     "execution_count": 169,
     "metadata": {},
     "output_type": "execute_result"
    }
   ],
   "source": [
    "# fitting model to train set\n",
    "rf.fit(x_train, y_train)"
   ]
  },
  {
   "cell_type": "code",
   "execution_count": 170,
   "id": "92485c78",
   "metadata": {},
   "outputs": [
    {
     "name": "stdout",
     "output_type": "stream",
     "text": [
      "[0.10270126 0.06734553 0.04841256 0.36655503 0.02072547 0.344281\n",
      " 0.01592391 0.01512833 0.0189269 ]\n"
     ]
    }
   ],
   "source": [
    "# evaluating importance of each feature, higher score = more importance \n",
    "print(rf.feature_importances_)"
   ]
  },
  {
   "cell_type": "code",
   "execution_count": 172,
   "id": "1bf150bf",
   "metadata": {},
   "outputs": [
    {
     "data": {
      "text/html": [
       "<div>\n",
       "<style scoped>\n",
       "    .dataframe tbody tr th:only-of-type {\n",
       "        vertical-align: middle;\n",
       "    }\n",
       "\n",
       "    .dataframe tbody tr th {\n",
       "        vertical-align: top;\n",
       "    }\n",
       "\n",
       "    .dataframe thead th {\n",
       "        text-align: right;\n",
       "    }\n",
       "</style>\n",
       "<table border=\"1\" class=\"dataframe\">\n",
       "  <thead>\n",
       "    <tr style=\"text-align: right;\">\n",
       "      <th></th>\n",
       "      <th>pclass</th>\n",
       "      <th>sibsp</th>\n",
       "      <th>parch</th>\n",
       "      <th>fare</th>\n",
       "      <th>alone</th>\n",
       "      <th>sex_male</th>\n",
       "      <th>embark_town_Cherbourg</th>\n",
       "      <th>embark_town_Queenstown</th>\n",
       "      <th>embark_town_Southampton</th>\n",
       "    </tr>\n",
       "  </thead>\n",
       "  <tbody>\n",
       "    <tr>\n",
       "      <th>583</th>\n",
       "      <td>1</td>\n",
       "      <td>0</td>\n",
       "      <td>0</td>\n",
       "      <td>40.1250</td>\n",
       "      <td>1</td>\n",
       "      <td>1</td>\n",
       "      <td>1</td>\n",
       "      <td>0</td>\n",
       "      <td>0</td>\n",
       "    </tr>\n",
       "    <tr>\n",
       "      <th>165</th>\n",
       "      <td>3</td>\n",
       "      <td>0</td>\n",
       "      <td>2</td>\n",
       "      <td>20.5250</td>\n",
       "      <td>0</td>\n",
       "      <td>1</td>\n",
       "      <td>0</td>\n",
       "      <td>0</td>\n",
       "      <td>1</td>\n",
       "    </tr>\n",
       "    <tr>\n",
       "      <th>50</th>\n",
       "      <td>3</td>\n",
       "      <td>4</td>\n",
       "      <td>1</td>\n",
       "      <td>39.6875</td>\n",
       "      <td>0</td>\n",
       "      <td>1</td>\n",
       "      <td>0</td>\n",
       "      <td>0</td>\n",
       "      <td>1</td>\n",
       "    </tr>\n",
       "    <tr>\n",
       "      <th>259</th>\n",
       "      <td>2</td>\n",
       "      <td>0</td>\n",
       "      <td>1</td>\n",
       "      <td>26.0000</td>\n",
       "      <td>0</td>\n",
       "      <td>0</td>\n",
       "      <td>0</td>\n",
       "      <td>0</td>\n",
       "      <td>1</td>\n",
       "    </tr>\n",
       "    <tr>\n",
       "      <th>306</th>\n",
       "      <td>1</td>\n",
       "      <td>0</td>\n",
       "      <td>0</td>\n",
       "      <td>110.8833</td>\n",
       "      <td>1</td>\n",
       "      <td>0</td>\n",
       "      <td>1</td>\n",
       "      <td>0</td>\n",
       "      <td>0</td>\n",
       "    </tr>\n",
       "  </tbody>\n",
       "</table>\n",
       "</div>"
      ],
      "text/plain": [
       "     pclass  sibsp  parch      fare  alone  sex_male  embark_town_Cherbourg  \\\n",
       "583       1      0      0   40.1250      1         1                      1   \n",
       "165       3      0      2   20.5250      0         1                      0   \n",
       "50        3      4      1   39.6875      0         1                      0   \n",
       "259       2      0      1   26.0000      0         0                      0   \n",
       "306       1      0      0  110.8833      1         0                      1   \n",
       "\n",
       "     embark_town_Queenstown  embark_town_Southampton  \n",
       "583                       0                        0  \n",
       "165                       0                        1  \n",
       "50                        0                        1  \n",
       "259                       0                        1  \n",
       "306                       0                        0  "
      ]
     },
     "execution_count": 172,
     "metadata": {},
     "output_type": "execute_result"
    }
   ],
   "source": [
    "x_train.head()"
   ]
  },
  {
   "cell_type": "code",
   "execution_count": 173,
   "id": "4ecea9c2",
   "metadata": {},
   "outputs": [
    {
     "data": {
      "text/plain": [
       "array([0, 1, 0, 1, 1, 0, 0, 0, 0, 0, 0, 0, 1, 0, 0, 0, 0, 1, 0, 0, 1, 0,\n",
       "       1, 1, 0, 0, 1, 0, 0, 0, 0, 0, 0, 1, 1, 0, 0, 1, 0, 1, 0, 0, 0, 1,\n",
       "       0, 0, 0, 0, 1, 0, 0, 0, 1, 1, 0, 1, 0, 1, 1, 0, 0, 0, 0, 0, 0, 0,\n",
       "       0, 0, 1, 1, 0, 0, 1, 1, 0, 0, 0, 0, 0, 1, 0, 1, 0, 0, 0, 0, 1, 1,\n",
       "       1, 0, 0, 0, 1, 1, 0, 0, 1, 0, 0, 1, 0, 0, 1, 0, 0, 1, 0, 1, 0, 0,\n",
       "       1, 1, 0, 0, 1, 1, 0, 0, 1, 1, 0, 0, 0, 0, 1, 1, 1, 0, 1, 0, 1, 0,\n",
       "       0, 1, 0, 0, 0, 0, 0, 0, 1, 0, 0, 0, 1, 0, 1, 1, 1, 1, 0, 1, 1, 0,\n",
       "       0, 1, 0, 0, 1, 0, 0, 1, 0, 1, 0, 0, 0, 0, 0, 0, 0, 1, 1, 0, 0, 0,\n",
       "       1, 0, 0, 0, 0, 0, 0, 1, 0, 1, 0, 1, 0, 1, 0, 1, 0, 0, 1, 1, 0, 1,\n",
       "       0, 0, 0, 1, 1, 0, 0, 0, 0, 0, 0, 1, 0, 0, 0, 1, 1, 1, 0, 0, 1, 0,\n",
       "       0, 0, 0, 1, 0, 0, 0, 0, 0, 1, 0, 0, 0, 0, 0, 1, 1, 0, 0, 0, 0, 0,\n",
       "       1, 0, 1, 0, 1, 0, 0, 1, 0, 0, 0, 1, 0, 1, 0, 1, 1, 1, 0, 0, 1, 1,\n",
       "       0, 0, 0, 1, 0, 0, 0, 0, 0, 1, 0, 0, 0, 0, 0, 0, 0, 1, 1, 1, 0, 0,\n",
       "       1, 0, 0, 0, 0, 0, 0, 0, 0, 1, 0, 0, 0, 0, 0, 0, 0, 1, 0, 0, 1, 0,\n",
       "       0, 0, 0, 0, 0, 1, 0, 0, 0, 1, 1, 0, 0, 0, 1, 0, 0, 1, 1, 0, 0, 1,\n",
       "       0, 1, 1, 1, 1, 1, 0, 1, 0, 0, 0, 1, 1, 1, 0, 1, 0, 0, 0, 0, 1, 0,\n",
       "       0, 1, 1, 1, 1, 0, 0, 1, 0, 1, 1, 0, 0, 0, 0, 0, 0, 0, 0, 0, 1, 0,\n",
       "       1, 0, 1, 0, 1, 1, 1, 1, 1, 0, 0, 1, 0, 1, 0, 0, 0, 0, 0, 1, 1, 0,\n",
       "       1, 0, 0, 0, 0, 1, 0, 0, 0, 0, 0, 0, 0, 1, 0, 0, 0, 0, 1, 1, 1, 1,\n",
       "       1, 0, 1, 0, 0, 1, 0, 1, 0, 1, 0, 0, 0, 0, 0, 0, 1, 0, 0, 0, 1, 0,\n",
       "       0, 0, 0, 0, 0, 1, 0, 0, 1, 0, 1, 1, 0, 0, 1, 0, 0, 0, 0, 0, 0, 0,\n",
       "       1, 0, 0, 1, 1, 0, 1, 0, 1, 0, 0, 0, 0, 0, 1, 0, 0, 0, 1, 1, 1, 1,\n",
       "       0, 1, 0, 1, 0, 1, 1, 0, 1, 0, 0, 0, 0, 0])"
      ]
     },
     "execution_count": 173,
     "metadata": {},
     "output_type": "execute_result"
    }
   ],
   "source": [
    "# classifying each observation as survived or not survived\n",
    "y_pred = rf.predict(x_train)\n",
    "y_pred"
   ]
  },
  {
   "cell_type": "code",
   "execution_count": 175,
   "id": "d21d733b",
   "metadata": {},
   "outputs": [
    {
     "data": {
      "text/plain": [
       "array([[0.93859479, 0.06140521],\n",
       "       [0.31441667, 0.68558333],\n",
       "       [0.98071429, 0.01928571],\n",
       "       [0.02132669, 0.97867331],\n",
       "       [0.        , 1.        ],\n",
       "       [0.88322304, 0.11677696],\n",
       "       [0.66706873, 0.33293127],\n",
       "       [0.88659879, 0.11340121],\n",
       "       [0.88001493, 0.11998507],\n",
       "       [0.99      , 0.01      ],\n",
       "       [0.63955631, 0.36044369],\n",
       "       [0.53950668, 0.46049332],\n",
       "       [0.00820764, 0.99179236],\n",
       "       [0.62189224, 0.37810776],\n",
       "       [0.83655461, 0.16344539],\n",
       "       [0.93728698, 0.06271302],\n",
       "       [0.93728698, 0.06271302],\n",
       "       [0.00589262, 0.99410738],\n",
       "       [0.80129522, 0.19870478],\n",
       "       [0.919     , 0.081     ],\n",
       "       [0.09020581, 0.90979419],\n",
       "       [0.9823167 , 0.0176833 ],\n",
       "       [0.00277778, 0.99722222],\n",
       "       [0.00277778, 0.99722222],\n",
       "       [0.53950668, 0.46049332],\n",
       "       [0.97021473, 0.02978527],\n",
       "       [0.0125    , 0.9875    ],\n",
       "       [0.64      , 0.36      ],\n",
       "       [0.8268039 , 0.1731961 ],\n",
       "       [0.80129522, 0.19870478],\n",
       "       [0.99044494, 0.00955506],\n",
       "       [0.88659879, 0.11340121],\n",
       "       [0.97021473, 0.02978527],\n",
       "       [0.04826087, 0.95173913],\n",
       "       [0.04949892, 0.95050108],\n",
       "       [0.88659879, 0.11340121],\n",
       "       [0.80129522, 0.19870478],\n",
       "       [0.00496305, 0.99503695],\n",
       "       [0.9257402 , 0.0742598 ],\n",
       "       [0.07073145, 0.92926855],\n",
       "       [0.99044494, 0.00955506],\n",
       "       [0.99044494, 0.00955506],\n",
       "       [0.88103448, 0.11896552],\n",
       "       [0.0425    , 0.9575    ],\n",
       "       [0.76104011, 0.23895989],\n",
       "       [0.95691111, 0.04308889],\n",
       "       [0.88001493, 0.11998507],\n",
       "       [0.9090503 , 0.0909497 ],\n",
       "       [0.12098111, 0.87901889],\n",
       "       [0.94017924, 0.05982076],\n",
       "       [0.89547275, 0.10452725],\n",
       "       [0.88659879, 0.11340121],\n",
       "       [0.005     , 0.995     ],\n",
       "       [0.05      , 0.95      ],\n",
       "       [0.83802242, 0.16197758],\n",
       "       [0.03333333, 0.96666667],\n",
       "       [0.99044494, 0.00955506],\n",
       "       [0.13233417, 0.86766583],\n",
       "       [0.40899089, 0.59100911],\n",
       "       [0.78383156, 0.21616844],\n",
       "       [0.81      , 0.19      ],\n",
       "       [0.9861942 , 0.0138058 ],\n",
       "       [0.99279019, 0.00720981],\n",
       "       [0.80129522, 0.19870478],\n",
       "       [0.9823167 , 0.0176833 ],\n",
       "       [0.88001493, 0.11998507],\n",
       "       [0.77974965, 0.22025035],\n",
       "       [0.7199153 , 0.2800847 ],\n",
       "       [0.3062069 , 0.6937931 ],\n",
       "       [0.00660364, 0.99339636],\n",
       "       [0.9562069 , 0.0437931 ],\n",
       "       [0.97021473, 0.02978527],\n",
       "       [0.00660364, 0.99339636],\n",
       "       [0.4122001 , 0.5877999 ],\n",
       "       [0.88001493, 0.11998507],\n",
       "       [0.967406  , 0.032594  ],\n",
       "       [0.98953733, 0.01046267],\n",
       "       [0.80129522, 0.19870478],\n",
       "       [0.9860667 , 0.0139333 ],\n",
       "       [0.36904762, 0.63095238],\n",
       "       [0.7331567 , 0.2668433 ],\n",
       "       [0.01      , 0.99      ],\n",
       "       [0.93728698, 0.06271302],\n",
       "       [0.80129522, 0.19870478],\n",
       "       [0.83802242, 0.16197758],\n",
       "       [0.9       , 0.1       ],\n",
       "       [0.        , 1.        ],\n",
       "       [0.30455631, 0.69544369],\n",
       "       [0.25128914, 0.74871086],\n",
       "       [0.80129522, 0.19870478],\n",
       "       [0.84765022, 0.15234978],\n",
       "       [0.88001493, 0.11998507],\n",
       "       [0.07007362, 0.92992638],\n",
       "       [0.03277778, 0.96722222],\n",
       "       [0.80129522, 0.19870478],\n",
       "       [0.98953733, 0.01046267],\n",
       "       [0.        , 1.        ],\n",
       "       [0.73432908, 0.26567092],\n",
       "       [0.93859479, 0.06140521],\n",
       "       [0.05      , 0.95      ],\n",
       "       [0.98953733, 0.01046267],\n",
       "       [0.90049206, 0.09950794],\n",
       "       [0.06739812, 0.93260188],\n",
       "       [0.84765022, 0.15234978],\n",
       "       [0.61166667, 0.38833333],\n",
       "       [0.        , 1.        ],\n",
       "       [0.9443544 , 0.0556456 ],\n",
       "       [0.13830159, 0.86169841],\n",
       "       [0.98953733, 0.01046267],\n",
       "       [0.97021473, 0.02978527],\n",
       "       [0.09334802, 0.90665198],\n",
       "       [0.09334802, 0.90665198],\n",
       "       [0.8857395 , 0.1142605 ],\n",
       "       [0.95891156, 0.04108844],\n",
       "       [0.40899089, 0.59100911],\n",
       "       [0.02132669, 0.97867331],\n",
       "       [0.98404762, 0.01595238],\n",
       "       [0.97021473, 0.02978527],\n",
       "       [0.00277778, 0.99722222],\n",
       "       [0.00103448, 0.99896552],\n",
       "       [0.79978914, 0.20021086],\n",
       "       [0.98469924, 0.01530076],\n",
       "       [0.95232323, 0.04767677],\n",
       "       [0.79770115, 0.20229885],\n",
       "       [0.37935336, 0.62064664],\n",
       "       [0.0580303 , 0.9419697 ],\n",
       "       [0.00103448, 0.99896552],\n",
       "       [0.74866667, 0.25133333],\n",
       "       [0.4475266 , 0.5524734 ],\n",
       "       [0.853     , 0.147     ],\n",
       "       [0.00589262, 0.99410738],\n",
       "       [0.87365056, 0.12634944],\n",
       "       [0.99      , 0.01      ],\n",
       "       [0.04285714, 0.95714286],\n",
       "       [0.81998697, 0.18001303],\n",
       "       [0.98953733, 0.01046267],\n",
       "       [0.97974091, 0.02025909],\n",
       "       [0.93728698, 0.06271302],\n",
       "       [0.75708333, 0.24291667],\n",
       "       [0.6738254 , 0.3261746 ],\n",
       "       [0.00103448, 0.99896552],\n",
       "       [0.95444444, 0.04555556],\n",
       "       [0.83957137, 0.16042863],\n",
       "       [0.88001493, 0.11998507],\n",
       "       [0.31268345, 0.68731655],\n",
       "       [0.53950668, 0.46049332],\n",
       "       [0.        , 1.        ],\n",
       "       [0.01890476, 0.98109524],\n",
       "       [0.01      , 0.99      ],\n",
       "       [0.06      , 0.94      ],\n",
       "       [0.9861942 , 0.0138058 ],\n",
       "       [0.00142857, 0.99857143],\n",
       "       [0.2       , 0.8       ],\n",
       "       [0.87443381, 0.12556619],\n",
       "       [0.74565696, 0.25434304],\n",
       "       [0.04826087, 0.95173913],\n",
       "       [0.98953733, 0.01046267],\n",
       "       [0.92102924, 0.07897076],\n",
       "       [0.05845238, 0.94154762],\n",
       "       [0.6180526 , 0.3819474 ],\n",
       "       [0.87859479, 0.12140521],\n",
       "       [0.13233417, 0.86766583],\n",
       "       [0.9755075 , 0.0244925 ],\n",
       "       [0.19022962, 0.80977038],\n",
       "       [0.93810022, 0.06189978],\n",
       "       [0.98789379, 0.01210621],\n",
       "       [0.90404762, 0.09595238],\n",
       "       [0.97021473, 0.02978527],\n",
       "       [0.9755075 , 0.0244925 ],\n",
       "       [0.93728698, 0.06271302],\n",
       "       [0.96737459, 0.03262541],\n",
       "       [0.        , 1.        ],\n",
       "       [0.05845238, 0.94154762],\n",
       "       [0.90771101, 0.09228899],\n",
       "       [0.56343045, 0.43656955],\n",
       "       [0.8168039 , 0.1831961 ],\n",
       "       [0.07353448, 0.92646552],\n",
       "       [0.77974965, 0.22025035],\n",
       "       [0.95036111, 0.04963889],\n",
       "       [0.53950668, 0.46049332],\n",
       "       [0.87443381, 0.12556619],\n",
       "       [0.97021473, 0.02978527],\n",
       "       [0.93728698, 0.06271302],\n",
       "       [0.        , 1.        ],\n",
       "       [0.97021473, 0.02978527],\n",
       "       [0.04399255, 0.95600745],\n",
       "       [0.9755075 , 0.0244925 ],\n",
       "       [0.00103448, 0.99896552],\n",
       "       [0.83346405, 0.16653595],\n",
       "       [0.43532251, 0.56467749],\n",
       "       [0.9438062 , 0.0561938 ],\n",
       "       [0.        , 1.        ],\n",
       "       [0.93728698, 0.06271302],\n",
       "       [0.80129522, 0.19870478],\n",
       "       [0.01277778, 0.98722222],\n",
       "       [0.12098111, 0.87901889],\n",
       "       [0.73488095, 0.26511905],\n",
       "       [0.36786103, 0.63213897],\n",
       "       [0.9823167 , 0.0176833 ],\n",
       "       [0.87443381, 0.12556619],\n",
       "       [0.98404762, 0.01595238],\n",
       "       [0.00277778, 0.99722222],\n",
       "       [0.01      , 0.99      ],\n",
       "       [0.99564912, 0.00435088],\n",
       "       [0.85587356, 0.14412644],\n",
       "       [0.93728698, 0.06271302],\n",
       "       [0.91623222, 0.08376778],\n",
       "       [0.92277778, 0.07722222],\n",
       "       [0.93728698, 0.06271302],\n",
       "       [0.1425    , 0.8575    ],\n",
       "       [0.86857251, 0.13142749],\n",
       "       [0.97021473, 0.02978527],\n",
       "       [0.77974965, 0.22025035],\n",
       "       [0.25974152, 0.74025848],\n",
       "       [0.00277778, 0.99722222],\n",
       "       [0.09334802, 0.90665198],\n",
       "       [0.9823167 , 0.0176833 ],\n",
       "       [0.88001493, 0.11998507],\n",
       "       [0.0580303 , 0.9419697 ],\n",
       "       [0.99044494, 0.00955506],\n",
       "       [0.79066667, 0.20933333],\n",
       "       [0.93728698, 0.06271302],\n",
       "       [0.97021473, 0.02978527],\n",
       "       [0.00277778, 0.99722222],\n",
       "       [0.99240758, 0.00759242],\n",
       "       [0.84765022, 0.15234978],\n",
       "       [0.91232323, 0.08767677],\n",
       "       [0.6180526 , 0.3819474 ],\n",
       "       [0.87443381, 0.12556619],\n",
       "       [0.04826087, 0.95173913],\n",
       "       [0.89771694, 0.10228306],\n",
       "       [0.83802242, 0.16197758],\n",
       "       [0.97021473, 0.02978527],\n",
       "       [0.94662102, 0.05337898],\n",
       "       [0.87443381, 0.12556619],\n",
       "       [0.00103448, 0.99896552],\n",
       "       [0.19290696, 0.80709304],\n",
       "       [0.99279019, 0.00720981],\n",
       "       [0.97626087, 0.02373913],\n",
       "       [0.988     , 0.012     ],\n",
       "       [0.93728698, 0.06271302],\n",
       "       [0.90857251, 0.09142749],\n",
       "       [0.00660364, 0.99339636],\n",
       "       [0.80129522, 0.19870478],\n",
       "       [0.05571429, 0.94428571],\n",
       "       [0.98469924, 0.01530076],\n",
       "       [0.        , 1.        ],\n",
       "       [0.98469924, 0.01530076],\n",
       "       [0.60114202, 0.39885798],\n",
       "       [0.01103448, 0.98896552],\n",
       "       [0.9096753 , 0.0903247 ],\n",
       "       [0.7331567 , 0.2668433 ],\n",
       "       [0.93728698, 0.06271302],\n",
       "       [0.13509804, 0.86490196],\n",
       "       [0.79458333, 0.20541667],\n",
       "       [0.16033333, 0.83966667],\n",
       "       [0.5854085 , 0.4145915 ],\n",
       "       [0.01      , 0.99      ],\n",
       "       [0.        , 1.        ],\n",
       "       [0.29369917, 0.70630083],\n",
       "       [0.80129522, 0.19870478],\n",
       "       [0.98953733, 0.01046267],\n",
       "       [0.12098111, 0.87901889],\n",
       "       [0.01      , 0.99      ],\n",
       "       [0.93728698, 0.06271302],\n",
       "       [0.97626087, 0.02373913],\n",
       "       [0.815     , 0.185     ],\n",
       "       [0.39213881, 0.60786119],\n",
       "       [0.98953733, 0.01046267],\n",
       "       [0.82319697, 0.17680303],\n",
       "       [0.88287821, 0.11712179],\n",
       "       [0.8278254 , 0.1721746 ],\n",
       "       [0.97021473, 0.02978527],\n",
       "       [0.        , 1.        ],\n",
       "       [0.99      , 0.01      ],\n",
       "       [0.95036111, 0.04963889],\n",
       "       [0.98953733, 0.01046267],\n",
       "       [0.93728698, 0.06271302],\n",
       "       [0.93728698, 0.06271302],\n",
       "       [0.93728698, 0.06271302],\n",
       "       [0.93728698, 0.06271302],\n",
       "       [0.        , 1.        ],\n",
       "       [0.12098111, 0.87901889],\n",
       "       [0.12098111, 0.87901889],\n",
       "       [0.95164556, 0.04835444],\n",
       "       [0.967406  , 0.032594  ],\n",
       "       [0.00660364, 0.99339636],\n",
       "       [0.56343045, 0.43656955],\n",
       "       [0.9       , 0.1       ],\n",
       "       [0.97021473, 0.02978527],\n",
       "       [0.80631928, 0.19368072],\n",
       "       [0.9755075 , 0.0244925 ],\n",
       "       [0.93728698, 0.06271302],\n",
       "       [0.97021473, 0.02978527],\n",
       "       [0.92277778, 0.07722222],\n",
       "       [0.30184289, 0.69815711],\n",
       "       [0.94477417, 0.05522583],\n",
       "       [0.92102924, 0.07897076],\n",
       "       [0.99      , 0.01      ],\n",
       "       [0.8585517 , 0.1414483 ],\n",
       "       [0.84765022, 0.15234978],\n",
       "       [0.99044494, 0.00955506],\n",
       "       [0.93810022, 0.06189978],\n",
       "       [0.12098111, 0.87901889],\n",
       "       [0.93728698, 0.06271302],\n",
       "       [0.53950668, 0.46049332],\n",
       "       [0.07666667, 0.92333333],\n",
       "       [0.97021473, 0.02978527],\n",
       "       [0.80129522, 0.19870478],\n",
       "       [0.82866667, 0.17133333],\n",
       "       [0.80129522, 0.19870478],\n",
       "       [0.9309293 , 0.0690707 ],\n",
       "       [0.88001493, 0.11998507],\n",
       "       [0.04399255, 0.95600745],\n",
       "       [0.99      , 0.01      ],\n",
       "       [0.91466667, 0.08533333],\n",
       "       [0.97021473, 0.02978527],\n",
       "       [0.        , 1.        ],\n",
       "       [0.41635525, 0.58364475],\n",
       "       [0.99279019, 0.00720981],\n",
       "       [0.948     , 0.052     ],\n",
       "       [0.87443381, 0.12556619],\n",
       "       [0.00103448, 0.99896552],\n",
       "       [0.65002192, 0.34997808],\n",
       "       [0.77974965, 0.22025035],\n",
       "       [0.05131016, 0.94868984],\n",
       "       [0.43536844, 0.56463156],\n",
       "       [0.7331567 , 0.2668433 ],\n",
       "       [0.53950668, 0.46049332],\n",
       "       [0.13233417, 0.86766583],\n",
       "       [0.9860667 , 0.0139333 ],\n",
       "       [0.13830159, 0.86169841],\n",
       "       [0.12098111, 0.87901889],\n",
       "       [0.14154545, 0.85845455],\n",
       "       [0.05131016, 0.94868984],\n",
       "       [0.00589262, 0.99410738],\n",
       "       [0.94371429, 0.05628571],\n",
       "       [0.32333333, 0.67666667],\n",
       "       [0.88659879, 0.11340121],\n",
       "       [0.88001493, 0.11998507],\n",
       "       [0.88659879, 0.11340121],\n",
       "       [0.03633333, 0.96366667],\n",
       "       [0.12098111, 0.87901889],\n",
       "       [0.30184289, 0.69815711],\n",
       "       [0.99564912, 0.00435088],\n",
       "       [0.06908371, 0.93091629],\n",
       "       [0.967406  , 0.032594  ],\n",
       "       [0.83957137, 0.16042863],\n",
       "       [0.75087032, 0.24912968],\n",
       "       [0.53950668, 0.46049332],\n",
       "       [0.        , 1.        ],\n",
       "       [0.79956953, 0.20043047],\n",
       "       [0.7199153 , 0.2800847 ],\n",
       "       [0.31066667, 0.68933333],\n",
       "       [0.02103448, 0.97896552],\n",
       "       [0.00277778, 0.99722222],\n",
       "       [0.        , 1.        ],\n",
       "       [0.9742069 , 0.0257931 ],\n",
       "       [0.91466667, 0.08533333],\n",
       "       [0.325     , 0.675     ],\n",
       "       [0.86582251, 0.13417749],\n",
       "       [0.31566667, 0.68433333],\n",
       "       [0.02519048, 0.97480952],\n",
       "       [0.80332143, 0.19667857],\n",
       "       [0.97974091, 0.02025909],\n",
       "       [0.68154545, 0.31845455],\n",
       "       [0.80129522, 0.19870478],\n",
       "       [0.7199153 , 0.2800847 ],\n",
       "       [0.98071429, 0.01928571],\n",
       "       [0.7820351 , 0.2179649 ],\n",
       "       [0.80129522, 0.19870478],\n",
       "       [0.93746636, 0.06253364],\n",
       "       [0.26762879, 0.73237121],\n",
       "       [0.89126679, 0.10873321],\n",
       "       [0.18585606, 0.81414394],\n",
       "       [0.93115584, 0.06884416],\n",
       "       [0.        , 1.        ],\n",
       "       [0.5980303 , 0.4019697 ],\n",
       "       [0.        , 1.        ],\n",
       "       [0.34166667, 0.65833333],\n",
       "       [0.24346234, 0.75653766],\n",
       "       [0.02499552, 0.97500448],\n",
       "       [0.00660364, 0.99339636],\n",
       "       [0.90001698, 0.09998302],\n",
       "       [0.80954545, 0.19045455],\n",
       "       [0.03468303, 0.96531697],\n",
       "       [0.77974965, 0.22025035],\n",
       "       [0.41146212, 0.58853788],\n",
       "       [0.832     , 0.168     ],\n",
       "       [0.88659879, 0.11340121],\n",
       "       [0.77974965, 0.22025035],\n",
       "       [0.80129522, 0.19870478],\n",
       "       [0.7331567 , 0.2668433 ],\n",
       "       [0.13233417, 0.86766583],\n",
       "       [0.13154545, 0.86845455],\n",
       "       [0.93115584, 0.06884416],\n",
       "       [0.02103448, 0.97896552],\n",
       "       [0.99044494, 0.00955506],\n",
       "       [0.77974965, 0.22025035],\n",
       "       [0.75472358, 0.24527642],\n",
       "       [0.99044494, 0.00955506],\n",
       "       [0.01552381, 0.98447619],\n",
       "       [0.96434591, 0.03565409],\n",
       "       [0.95232323, 0.04767677],\n",
       "       [0.88659879, 0.11340121],\n",
       "       [0.87443381, 0.12556619],\n",
       "       [0.96737459, 0.03262541],\n",
       "       [0.68963881, 0.31036119],\n",
       "       [0.97626087, 0.02373913],\n",
       "       [0.46824152, 0.53175848],\n",
       "       [0.53950668, 0.46049332],\n",
       "       [0.98659091, 0.01340909],\n",
       "       [0.96184591, 0.03815409],\n",
       "       [0.98659091, 0.01340909],\n",
       "       [0.        , 1.        ],\n",
       "       [0.13233417, 0.86766583],\n",
       "       [0.        , 1.        ],\n",
       "       [0.41146212, 0.58853788],\n",
       "       [0.        , 1.        ],\n",
       "       [0.85309715, 0.14690285],\n",
       "       [0.42124214, 0.57875786],\n",
       "       [0.98953733, 0.01046267],\n",
       "       [0.9861942 , 0.0138058 ],\n",
       "       [0.00820764, 0.99179236],\n",
       "       [0.97184591, 0.02815409],\n",
       "       [0.01890476, 0.98109524],\n",
       "       [0.79716775, 0.20283225],\n",
       "       [0.00103448, 0.99896552],\n",
       "       [0.78383156, 0.21616844],\n",
       "       [0.86533333, 0.13466667],\n",
       "       [0.97021473, 0.02978527],\n",
       "       [0.8762069 , 0.1237931 ],\n",
       "       [0.95891156, 0.04108844],\n",
       "       [0.88659879, 0.11340121],\n",
       "       [0.21909524, 0.78090476],\n",
       "       [0.80129522, 0.19870478],\n",
       "       [0.61738095, 0.38261905],\n",
       "       [0.84765022, 0.15234978],\n",
       "       [0.05      , 0.95      ],\n",
       "       [0.93728698, 0.06271302],\n",
       "       [0.97021473, 0.02978527],\n",
       "       [0.91815584, 0.08184416],\n",
       "       [0.87365056, 0.12634944],\n",
       "       [0.80129522, 0.19870478],\n",
       "       [0.98953733, 0.01046267],\n",
       "       [0.21745625, 0.78254375],\n",
       "       [0.94371429, 0.05628571],\n",
       "       [0.98404762, 0.01595238],\n",
       "       [0.32417271, 0.67582729],\n",
       "       [0.9974176 , 0.0025824 ],\n",
       "       [0.05131016, 0.94868984],\n",
       "       [0.01      , 0.99      ],\n",
       "       [0.98469924, 0.01530076],\n",
       "       [0.9755075 , 0.0244925 ],\n",
       "       [0.06908371, 0.93091629],\n",
       "       [0.53950668, 0.46049332],\n",
       "       [0.9562069 , 0.0437931 ],\n",
       "       [0.92286844, 0.07713156],\n",
       "       [0.99206046, 0.00793954],\n",
       "       [0.80129522, 0.19870478],\n",
       "       [0.88846154, 0.11153846],\n",
       "       [0.9823167 , 0.0176833 ],\n",
       "       [0.13233417, 0.86766583],\n",
       "       [0.73549206, 0.26450794],\n",
       "       [0.80309867, 0.19690133],\n",
       "       [0.        , 1.        ],\n",
       "       [0.3588254 , 0.6411746 ],\n",
       "       [0.94662102, 0.05337898],\n",
       "       [0.3       , 0.7       ],\n",
       "       [0.78383156, 0.21616844],\n",
       "       [0.13233417, 0.86766583],\n",
       "       [0.73766156, 0.26233844],\n",
       "       [0.86309715, 0.13690285],\n",
       "       [0.83802242, 0.16197758],\n",
       "       [0.93882905, 0.06117095],\n",
       "       [0.77974965, 0.22025035],\n",
       "       [0.05196501, 0.94803499],\n",
       "       [0.98071429, 0.01928571],\n",
       "       [0.91286844, 0.08713156],\n",
       "       [0.97021473, 0.02978527],\n",
       "       [0.31115873, 0.68884127],\n",
       "       [0.01246305, 0.98753695],\n",
       "       [0.12654545, 0.87345455],\n",
       "       [0.03333333, 0.96666667],\n",
       "       [0.93728698, 0.06271302],\n",
       "       [0.42304762, 0.57695238],\n",
       "       [0.78383156, 0.21616844],\n",
       "       [0.06841667, 0.93158333],\n",
       "       [0.93728698, 0.06271302],\n",
       "       [0.46824152, 0.53175848],\n",
       "       [0.04151067, 0.95848933],\n",
       "       [0.96737459, 0.03262541],\n",
       "       [0.03333333, 0.96666667],\n",
       "       [0.97021473, 0.02978527],\n",
       "       [0.87365056, 0.12634944],\n",
       "       [0.93728698, 0.06271302],\n",
       "       [0.948     , 0.052     ],\n",
       "       [0.87365056, 0.12634944]])"
      ]
     },
     "execution_count": 175,
     "metadata": {},
     "output_type": "execute_result"
    }
   ],
   "source": [
    "# estimating the probability of those classifications\n",
    "y_pred_proba = rf.predict_proba(x_train)\n",
    "y_pred_proba"
   ]
  },
  {
   "cell_type": "markdown",
   "id": "ff5cc7b3",
   "metadata": {},
   "source": [
    "## Exercise 2\n",
    "\n",
    "Evaluate your results using the model score, confusion matrix, and classification report."
   ]
  },
  {
   "cell_type": "code",
   "execution_count": 177,
   "id": "316de8d6",
   "metadata": {},
   "outputs": [
    {
     "name": "stdout",
     "output_type": "stream",
     "text": [
      "Accuracy of random forest classifier on training set: 0.94\n"
     ]
    }
   ],
   "source": [
    "# calculating accuracy of the model\n",
    "print('Accuracy of random forest classifier on training set: {:.2f}'\n",
    "     .format(rf.score(x_train, y_train)))"
   ]
  },
  {
   "cell_type": "code",
   "execution_count": 178,
   "id": "9767fc77",
   "metadata": {},
   "outputs": [
    {
     "name": "stdout",
     "output_type": "stream",
     "text": [
      "[[302   5]\n",
      " [ 23 168]]\n"
     ]
    }
   ],
   "source": [
    "# creating confusion matrix\n",
    "print(confusion_matrix(y_train, y_pred))"
   ]
  },
  {
   "cell_type": "code",
   "execution_count": 180,
   "id": "2fe3ca22",
   "metadata": {},
   "outputs": [
    {
     "name": "stdout",
     "output_type": "stream",
     "text": [
      "              precision    recall  f1-score   support\n",
      "\n",
      "           0       0.93      0.98      0.96       307\n",
      "           1       0.97      0.88      0.92       191\n",
      "\n",
      "    accuracy                           0.94       498\n",
      "   macro avg       0.95      0.93      0.94       498\n",
      "weighted avg       0.95      0.94      0.94       498\n",
      "\n"
     ]
    }
   ],
   "source": [
    "# creating classification report\n",
    "print(classification_report(y_train, y_pred))"
   ]
  },
  {
   "cell_type": "markdown",
   "id": "4ee67c72",
   "metadata": {},
   "source": [
    "## Exercise 3\n",
    "\n",
    "Print and clearly label the following: Accuracy, true positive rate, false positive rate, true negative rate, false negative rate, precision, recall, f1-score, and support.\n",
    "\n",
    "**In this case, positive = 0 (did not survive), negative = 1 (survived)**"
   ]
  },
  {
   "cell_type": "code",
   "execution_count": 192,
   "id": "2d0ed930",
   "metadata": {},
   "outputs": [],
   "source": [
    "tp = 302\n",
    "tn = 168\n",
    "fp = 23\n",
    "fn = 5\n",
    "all_4 = tp + tn + fp + fn\n",
    "\n",
    "accuracy = (tp + tn) / all_4\n",
    "true_positive_rate = tp / (tp + fn)\n",
    "false_positive_rate = fp / (fp + tn)\n",
    "true_negative_rate = tn / (tn + fp)\n",
    "false_negative_rate = fn /(fn + tp)\n",
    "precision = tp / (tp + fp)\n",
    "recall = tp / (tp + fn)\n",
    "f1_score = 2 * ((precision * recall) / (precision + recall))\n",
    "support = (y_train == 0).sum(), (y_train == 1).sum()"
   ]
  },
  {
   "cell_type": "code",
   "execution_count": 198,
   "id": "6b515c55",
   "metadata": {},
   "outputs": [
    {
     "name": "stdout",
     "output_type": "stream",
     "text": [
      "accuracy: 0.9437751004016064\n",
      "true_positive_rate: 0.9837133550488599\n",
      "false_positive_rate: 0.12041884816753927\n",
      "true_negative_rate: 0.8795811518324608\n",
      "false_negative_rate: 0.016286644951140065\n",
      "precision: 0.9292307692307692\n",
      "recall: 0.9837133550488599\n",
      "f1_score: 0.9556962025316454\n",
      "support: (307, 191)\n"
     ]
    }
   ],
   "source": [
    "print(f'accuracy: {accuracy}')\n",
    "print(f'true_positive_rate: {true_positive_rate}')\n",
    "print(f'false_positive_rate: {false_positive_rate}')\n",
    "print(f'true_negative_rate: {true_negative_rate}')\n",
    "print(f'false_negative_rate: {false_negative_rate}')\n",
    "print(f'precision: {precision}')\n",
    "print(f'recall: {recall}')\n",
    "print(f'f1_score: {f1_score}')\n",
    "print(f'support: {support}')"
   ]
  },
  {
   "cell_type": "markdown",
   "id": "aea0570f",
   "metadata": {},
   "source": [
    "## Exercise 4\n",
    "\n",
    "Run through steps increasing your min_samples_leaf and decreasing your max_depth."
   ]
  },
  {
   "cell_type": "code",
   "execution_count": null,
   "id": "16a8d1bd",
   "metadata": {},
   "outputs": [],
   "source": []
  }
 ],
 "metadata": {
  "kernelspec": {
   "display_name": "Python 3",
   "language": "python",
   "name": "python3"
  },
  "language_info": {
   "codemirror_mode": {
    "name": "ipython",
    "version": 3
   },
   "file_extension": ".py",
   "mimetype": "text/x-python",
   "name": "python",
   "nbconvert_exporter": "python",
   "pygments_lexer": "ipython3",
   "version": "3.8.8"
  }
 },
 "nbformat": 4,
 "nbformat_minor": 5
}
